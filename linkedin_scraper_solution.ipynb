{
 "cells": [
  {
   "cell_type": "code",
   "execution_count": 1,
   "metadata": {},
   "outputs": [
    {
     "output_type": "stream",
     "name": "stdout",
     "text": [
      "- Finish importing packages\n"
     ]
    }
   ],
   "source": [
    "# Import libraries and packages for the project \n",
    "\n",
    "from selenium import webdriver\n",
    "from selenium.webdriver.common.keys import Keys\n",
    "from bs4 import BeautifulSoup\n",
    "from time import sleep\n",
    "import csv\n",
    "\n",
    "print('- Finish importing packages')"
   ]
  },
  {
   "cell_type": "code",
   "execution_count": 2,
   "metadata": {},
   "outputs": [
    {
     "output_type": "stream",
     "name": "stdout",
     "text": [
      "- Finish initializing a driver\n",
      "- Finish importing the login credentials\n",
      "- Finish keying in email\n",
      "- Finish keying in password\n",
      "- Finish Task 1: Login to Linkedin\n"
     ]
    }
   ],
   "source": [
    "# Task 1: Login to Linkedin\n",
    "\n",
    "# Task 1.1: Open Chrome and Access Linkedin login site\n",
    "driver = webdriver.Chrome()\n",
    "sleep(2)\n",
    "url = 'https://www.linkedin.com/login'\n",
    "driver.get(url)\n",
    "print('- Finish initializing a driver')\n",
    "sleep(2)\n",
    "\n",
    "# Task 1.2: Import username and password\n",
    "credential = open('credentials.txt')\n",
    "line = credential.readlines()\n",
    "username = line[0]\n",
    "password = line[1]\n",
    "print('- Finish importing the login credentials')\n",
    "sleep(2)\n",
    "\n",
    "# Task 1.2: Key in login credentials\n",
    "email_field = driver.find_element_by_id('username')\n",
    "email_field.send_keys(username)\n",
    "print('- Finish keying in email')\n",
    "sleep(3)\n",
    "\n",
    "password_field = driver.find_element_by_name('session_password')\n",
    "password_field.send_keys(password)\n",
    "print('- Finish keying in password')\n",
    "sleep(2)\n",
    "\n",
    "# Task 1.2: Click the Login button\n",
    "signin_field = driver.find_element_by_xpath('//*[@id=\"app__container\"]/main/div[2]/form/div[3]/button')\n",
    "signin_field.click()\n",
    "sleep(3)\n",
    "\n",
    "print('- Finish Task 1: Login to Linkedin')"
   ]
  },
  {
   "cell_type": "code",
   "execution_count": 3,
   "metadata": {},
   "outputs": [
    {
     "output_type": "stream",
     "name": "stdout",
     "text": [
      "- Finish Task 2: Search for profiles\n"
     ]
    }
   ],
   "source": [
    "# Task 2: Search for the profile we want to crawl\n",
    "\n",
    "# Task 2.1: Locate the search bar element\n",
    "search_field = driver.find_element_by_xpath('//*[@id=\"ember20\"]/input')\n",
    "\n",
    "# Task 2.2: Input the search query to the search bar\n",
    "search_query = input('What profile do you want to scrape? ')\n",
    "search_field.send_keys(search_query)\n",
    "\n",
    "# Task 2.3: Search\n",
    "search_field.send_keys(Keys.RETURN)\n",
    "\n",
    "print('- Finish Task 2: Search for profiles')"
   ]
  },
  {
   "cell_type": "code",
   "execution_count": 13,
   "metadata": {},
   "outputs": [],
   "source": [
    "search_url = \"https://www.linkedin.com/search/results/people/?facetSchool=%5B%22194005%22%2C%22370029%22%2C%223153429%22%2C%223219010%22%2C%224143035%22%2C%22453161%22%5D&keywords=full%20stack%20developer&origin=FACETED_SEARCH&page=70\"\n",
    "\n",
    "driver.get(search_url)"
   ]
  },
  {
   "cell_type": "code",
   "execution_count": 4,
   "metadata": {},
   "outputs": [
    {
     "output_type": "stream",
     "name": "stdout",
     "text": [
      "- Finish Task 3: Scrape the URLs of  4  profiles\n"
     ]
    }
   ],
   "source": [
    "# Task 3: Scrape the URLs of the profiles\n",
    "\n",
    "# Task 3.1: Write a function to extract the URLs of one page\n",
    "def GetURL():\n",
    "    page_source = BeautifulSoup(driver.page_source)\n",
    "    profiles = page_source.find_all('a', class_ = 'search-result__result-link ember-view')\n",
    "    all_profile_URL = []\n",
    "    for profile in profiles:\n",
    "        profile_ID = profile.get('href')\n",
    "        profile_URL = \"https://www.linkedin.com\" + profile_ID\n",
    "        if profile_URL not in all_profile_URL:\n",
    "            all_profile_URL.append(profile_URL)\n",
    "    return all_profile_URL\n",
    "\n",
    "# Task 3.2: Navigate through many page, and extract the profile URLs of each page\n",
    "\n",
    "input_page = int(input('How many pages you want to scrape: '))\n",
    "URLs_all_page = []\n",
    "for page in range(input_page):\n",
    "    URLs_one_page = GetURL()\n",
    "    sleep(2)\n",
    "    driver.execute_script('window.scrollTo(0, document.body.scrollHeight);') #scroll to the end of the page\n",
    "    sleep(3)\n",
    "    next_button = driver.find_element_by_class_name(\"artdeco-pagination__button--next\")\n",
    "    driver.execute_script(\"arguments[0].click();\", next_button)\n",
    "    URLs_all_page = URLs_all_page + URLs_one_page\n",
    "    sleep(2)\n",
    "\n",
    "print('- Finish Task 3: Scrape the URLs of ', len(URLs_all_page), ' profiles')"
   ]
  },
  {
   "cell_type": "code",
   "execution_count": 11,
   "metadata": {
    "tags": [
     "outputPrepend"
    ]
   },
   "outputs": [
    {
     "output_type": "stream",
     "name": "stdout",
     "text": [
      "me=\"url_card_action_click_highlights_shared_connections\" href=\"https://www.linkedin.com/search/results/people/?facetNetwork=%5B%22F%22%5D&amp;facetConnectionOf=%5B%22ACoAAC51I4QBAHg7rUQ-y3mrocbvac5Jb5mhsLE%22%5D&amp;origin=MEMBER_PROFILE_CANNED_SEARCH&amp;RESULT_TYPE=PEOPLE\" id=\"ember179\"> <h3 class=\"pv-highlight-entity__primary-text t-16 t-black t-bold\">\n            1 mutual connection\n          </h3>\n<p class=\"pv-highlight-entity__secondary-text t-14 t-black--light t-normal\">\n              You and Tai both know Gia Bảo Thái\n            </p>\n</a><!-- --> </div>\n</div>\n</div>\n</li>\n</ul>\n<!-- --></section>\n</div>\n</div>\n<div class=\"pv-oc ember-view\" id=\"ember80\"> <section class=\"artdeco-container-card pv-profile-section pv-about-section artdeco-card ember-view\" id=\"ember124\" style=\"display: none;\"><header class=\"pv-profile-section__card-header\">\n<h2 class=\"pv-profile-section__card-heading\">\n    About\n  </h2>\n<!-- --></header>\n<!-- --></section>\n</div>\n<!-- -->\n<div class=\"pv-deferred-area ember-view\" id=\"ember82\" style=\"\"> <div class=\"pv-deferred-area__content\">\n<section class=\"pv-profile-section pv-recent-activity-section-v2 artdeco-container-card artdeco-card ember-view\" id=\"ember170\"><header class=\"pv-profile-section__card-header\">\n<h2 class=\"pv-profile-section__card-heading pv-recent-activity-section-v2__headline\">\n    Activity\n  </h2>\n<div class=\"align-self-center ember-view\">\n<!-- --> </div>\n</header>\n<span class=\"align-self-center\">\n        7 followers\n      </span>\n<div class=\"pv-recent-activity-section-v2__summary t-14 t-black--light t-normal\">\n<div class=\"pv-recent-activity-section-v2__columns\">\n<p class=\"t-14 pb2\">\n          Posts Tai created, shared, or commented on in the last 90 days are displayed here.\n              </p>\n</div>\n</div>\n<a class=\"pv-profile-section__card-action-bar artdeco-container-card-action-bar artdeco-button artdeco-button--tertiary artdeco-button--3 artdeco-button--fluid artdeco-button--muted ember-view\" data-control-name=\"recent_activity_null_state_see_all\" href=\"/in/tai-duongquoc-370042199/detail/recent-activity/\" id=\"ember171\"> <span aria-hidden=\"true\" class=\"pv-profile-section__section-info\">See all activity</span>\n<span class=\"visually-hidden\">See all activity</span>\n</a></section>\n</div>\n</div>\n<div class=\"pv-oc ember-view\" id=\"oc-background-section\"> <span class=\"background-details\">\n<div class=\"ember-view\" id=\"ember105\"><section class=\"pv-profile-section pv-profile-section--reorder-enabled background-section artdeco-container-card artdeco-card ember-view\" id=\"ember106\"><div class=\"pv-profile-section-pager ember-view\" id=\"ember107\"><section class=\"pv-profile-section experience-section ember-view\" id=\"experience-section\"><header class=\"pv-profile-section__card-header\">\n<h2 class=\"pv-profile-section__card-heading\">\n    Experience\n  </h2>\n<!-- --></header>\n<ul class=\"pv-profile-section__section-info section-info pv-profile-section__section-info--has-no-more\">\n<li class=\"pv-entity__position-group-pager pv-profile-section__list-item ember-view\" id=\"ember110\"> <section class=\"pv-profile-section__card-item-v2 pv-profile-section pv-position-entity ember-view\" id=\"1546381176\"> <div class=\"display-flex justify-space-between full-width\">\n<div class=\"display-flex flex-column full-width\">\n<a class=\"full-width ember-view\" data-control-name=\"background_details_company\" href=\"/company/edgeworks-german-software-ltd-/\" id=\"ember112\"> <div class=\"pv-entity__logo company-logo\">\n<img alt=\"EdgeWorks German Software R&amp;D Ltd.\" class=\"pv-entity__logo-img EntityPhoto-square-5 lazy-image ember-view\" id=\"ember114\" loading=\"lazy\" src=\"https://media-exp1.licdn.com/dms/image/C560BAQGsmPk6xpVSlA/company-logo_100_100/0/1519910852673?e=1616025600&amp;v=beta&amp;t=afYkiVYaFJPSzGJwTKB5nR21hbCPjyoFcshob2Q_V3A\"/>\n</div>\n<div class=\"pv-entity__summary-info pv-entity__summary-info--background-section\">\n<h3 class=\"t-16 t-black t-bold\">Frontend Web Developer</h3>\n<p class=\"visually-hidden\">Company Name</p>\n<p class=\"pv-entity__secondary-title t-14 t-black t-normal\">\n      EdgeWorks German Software R&amp;D Ltd.\n<!-- --> </p>\n<div class=\"display-flex\">\n<h4 class=\"pv-entity__date-range t-14 t-black--light t-normal\">\n<span class=\"visually-hidden\">Dates Employed</span>\n<span>Apr 2019 – Dec 2019</span>\n</h4>\n<h4 class=\"t-14 t-black--light t-normal\">\n<span class=\"visually-hidden\">Employment Duration</span>\n<span class=\"pv-entity__bullet-item-v2\">9 mos</span>\n</h4>\n</div>\n<!-- -->\n<!-- -->\n</div>\n</a>\n<!-- --> </div>\n<!-- --> </div>\n</section>\n</li> </ul>\n<!-- --></section>\n</div>\n<div class=\"pv-profile-section-pager ember-view\" id=\"ember116\"><section class=\"pv-profile-section education-section ember-view\" id=\"education-section\"><header class=\"pv-profile-section__card-header\">\n<h2 class=\"pv-profile-section__card-heading\">\n    Education\n  </h2>\n<!-- --></header>\n<ul class=\"pv-profile-section__section-info section-info pv-profile-section__section-info--has-no-more\">\n<li class=\"pv-profile-section__list-item pv-education-entity pv-profile-section__card-item ember-view\" id=\"625083772\"><div class=\"display-flex justify-space-between full-width\">\n<div class=\"display-flex flex-column full-width\">\n<a class=\"ember-view\" data-control-name=\"background_details_school\" href=\"/search/results/all/?keywords=Saigon%20Technology%20University\" id=\"ember120\"> <div class=\"pv-entity__logo\">\n<img alt=\"Saigon Technology University\" class=\"pv-entity__logo-img pv-entity__logo-img EntityPhoto-square-4 lazy-image ghost-school ember-view\" id=\"ember122\" loading=\"lazy\" src=\"data:image/gif;base64,R0lGODlhAQABAIAAAAAAAP///yH5BAEAAAAALAAAAAABAAEAAAIBRAA7\"/>\n</div>\n<div class=\"pv-entity__summary-info pv-entity__summary-info--background-section\">\n<div class=\"pv-entity__degree-info\">\n<h3 class=\"pv-entity__school-name t-16 t-black t-bold\">Saigon Technology University</h3>\n<p class=\"pv-entity__secondary-title pv-entity__degree-name t-14 t-black t-normal\">\n<span class=\"visually-hidden\">Degree Name</span>\n<span class=\"pv-entity__comma-item\">University</span>\n</p>\n<p class=\"pv-entity__secondary-title pv-entity__fos t-14 t-black t-normal\">\n<span class=\"visually-hidden\">Field Of Study</span>\n<span class=\"pv-entity__comma-item\">Computer Science</span>\n</p>\n<p class=\"pv-entity__secondary-title pv-entity__grade t-14 t-black t-normal\">\n<span class=\"visually-hidden\">Grade</span>\n<span class=\"pv-entity__comma-item\">Average Good</span>\n</p>\n</div>\n<p class=\"pv-entity__dates t-14 t-black--light t-normal\">\n<span class=\"visually-hidden\">Dates attended or expected graduation</span>\n<span>\n<time>2014</time> – <time>2018</time>\n</span>\n</p>\n<p class=\"pv-entity__secondary-title t-14 t-black--light t-normal\">\n<span class=\"activities-label\">Activities and Societies:</span>\n<span class=\"activities-societies\">I really love the sport when I was young and I have been playing many sports until now.\n- Swim\n- Football \n- Badminton\n</span>\n</p>\n</div>\n</a>\n<div class=\"pv-entity__extra-details t-14 t-black--light ember-view\" id=\"ember123\"><p class=\"pv-entity__description t-14 t-normal mt4\">\n  I took part in a lot of social activities when I was in University such as: <br/>- Support needy people <br/>- Collect trash challenge<br/>- Volunteer activities \n</p>\n<!-- --></div>\n</div>\n<!-- --></div>\n</li>\n</ul>\n<!-- --></section>\n</div>\n<!-- -->\n<!-- --></section>\n</div>\n</span>\n</div>\n<div class=\"pv-deferred-area pv-deferred-area--pending pv-deferred-area--occluded ember-view\" id=\"ember86\" style=\"min-height: 145px\"> <div class=\"pv-deferred-area__loader pv-deferred-area__loader--dark artdeco-loader ember-view\" id=\"ember87\"><!-- -->\n<span class=\"artdeco-loader__bars\"></span>\n<span class=\"artdeco-loader__bars\"></span>\n<span class=\"artdeco-loader__bars\"></span>\n<span class=\"artdeco-loader__bars\"></span>\n<span class=\"artdeco-loader__bars\"></span>\n<span class=\"artdeco-loader__bars\"></span>\n<span class=\"artdeco-loader__bars\"></span>\n<span class=\"artdeco-loader__bars\"></span>\n<span class=\"artdeco-loader__bars\"></span>\n<span class=\"artdeco-loader__bars\"></span>\n<span class=\"artdeco-loader__bars\"></span>\n<span class=\"artdeco-loader__bars\"></span>\n</div>\n</div>\n<div class=\"pv-deferred-area pv-deferred-area--pending pv-deferred-area--occluded ember-view\" id=\"ember89\" style=\"min-height: 285px\"> <div class=\"pv-deferred-area__loader pv-deferred-area__loader--dark artdeco-loader ember-view\" id=\"ember90\"><!-- -->\n<span class=\"artdeco-loader__bars\"></span>\n<span class=\"artdeco-loader__bars\"></span>\n<span class=\"artdeco-loader__bars\"></span>\n<span class=\"artdeco-loader__bars\"></span>\n<span class=\"artdeco-loader__bars\"></span>\n<span class=\"artdeco-loader__bars\"></span>\n<span class=\"artdeco-loader__bars\"></span>\n<span class=\"artdeco-loader__bars\"></span>\n<span class=\"artdeco-loader__bars\"></span>\n<span class=\"artdeco-loader__bars\"></span>\n<span class=\"artdeco-loader__bars\"></span>\n<span class=\"artdeco-loader__bars\"></span>\n</div>\n</div>\n<div class=\"pv-occludable__accomplishments ember-view\" id=\"ember91\"><!-- --></div>\n<div class=\"pv-deferred-area pv-deferred-area--pending pv-deferred-area--occluded ember-view\" id=\"ember93\" style=\"min-height: 200px\"> <div class=\"pv-deferred-area__loader pv-deferred-area__loader--dark artdeco-loader ember-view\" id=\"ember94\"><!-- -->\n<span class=\"artdeco-loader__bars\"></span>\n<span class=\"artdeco-loader__bars\"></span>\n<span class=\"artdeco-loader__bars\"></span>\n<span class=\"artdeco-loader__bars\"></span>\n<span class=\"artdeco-loader__bars\"></span>\n<span class=\"artdeco-loader__bars\"></span>\n<span class=\"artdeco-loader__bars\"></span>\n<span class=\"artdeco-loader__bars\"></span>\n<span class=\"artdeco-loader__bars\"></span>\n<span class=\"artdeco-loader__bars\"></span>\n<span class=\"artdeco-loader__bars\"></span>\n<span class=\"artdeco-loader__bars\"></span>\n</div>\n</div> </div>\n</main>\n<div class=\"pv-content__right-rail right-rail\">\n<!-- -->\n<!-- -->\n<div class=\"ember-view\" id=\"ember95\"><section class=\"ad-banner-container ember-view\" id=\"ember96\"><iframe class=\"ad-banner\" height=\"250\" scrolling=\"no\" src=\"about:blank\" title=\"advertisement\" width=\"300\"></iframe>\n<!-- --></section></div>\n<div class=\"pv-deferred-area pv-deferred-area--pending pv-deferred-area--occluded ember-view\" id=\"ember98\" style=\"min-height: 755px\"> <div class=\"pv-deferred-area__loader pv-deferred-area__loader--dark artdeco-loader ember-view\" id=\"ember99\"><!-- -->\n<span class=\"artdeco-loader__bars\"></span>\n<span class=\"artdeco-loader__bars\"></span>\n<span class=\"artdeco-loader__bars\"></span>\n<span class=\"artdeco-loader__bars\"></span>\n<span class=\"artdeco-loader__bars\"></span>\n<span class=\"artdeco-loader__bars\"></span>\n<span class=\"artdeco-loader__bars\"></span>\n<span class=\"artdeco-loader__bars\"></span>\n<span class=\"artdeco-loader__bars\"></span>\n<span class=\"artdeco-loader__bars\"></span>\n<span class=\"artdeco-loader__bars\"></span>\n<span class=\"artdeco-loader__bars\"></span>\n</div>\n</div>\n<div class=\"pv-occludable__course-recommendations ember-view\" id=\"ember169\"><!-- --></div> <div class=\"sticky ember-view\" id=\"ember100\" style=\"height: 262px; width: 312px; margin: 0px auto;\"> <div class=\"pv-ad-banner\">\n<div class=\"ember-view\" id=\"ember101\"><section class=\"ad-banner-container ember-view\" id=\"ember102\"><iframe class=\"ad-banner\" height=\"250\" scrolling=\"no\" src=\"about:blank\" title=\"advertisement\" width=\"300\"></iframe>\n<!-- --></section></div>\n</div>\n</div> </div>\n<footer class=\"global-footer global-footer--static ember-view\" id=\"ember103\"><div class=\"global-footer__occlusion-hint ember-view\" id=\"ember104\"><!-- --></div></footer>\n</div>\n</div>\n<!-- -->\n<!-- -->\n</div>\n</div>\n</div>\n</div>\n<aside class=\"msg-overlay-container ember-view\" id=\"msg-overlay\"><!-- -->\n<div class=\"msg-overlay-list-bubble msg-overlay-list-bubble--is-minimized ml4\" tabindex=\"-1\">\n<header class=\"msg-overlay-bubble-header msg-overlay-bubble-header--inverse msg-overlay-bubble-header--is-badged\" data-control-name=\"overlay.maximize_connection_list_bar\" data-ember-action=\"\" data-ember-action-128=\"128\">\n<!-- -->\n<section class=\"msg-overlay-bubble-header__details flex-row align-items-center\">\n<div class=\"presence-entity presence-entity--size-1 ember-view\" id=\"ember129\"><img alt=\"Daphne (Duong) Huynh\" class=\"presence-entity__image EntityPhoto-circle-1 lazy-image ember-view\" id=\"ember130\" loading=\"lazy\" src=\"https://media-exp1.licdn.com/dms/image/C4D03AQG82fX4p_0-Kw/profile-displayphoto-shrink_100_100/0/1590303094720?e=1613606400&amp;v=beta&amp;t=X99tl077Zjs-bBJu1YqUpwAgRL_4mLaczmaRL05_GBw\" title=\"Daphne (Duong) Huynh\"/>\n<div class=\"presence-entity__indicator presence-entity__indicator--size-1 presence-indicator presence-indicator--is-online presence-indicator--size-1 ember-view\" id=\"ember131\">\n<span class=\"visually-hidden\">\n    Status is online\n</span></div></div>\n<button class=\"msg-overlay-bubble-header__button truncate ml2\" type=\"button\">\n<h4 class=\"truncate t-14 t-bold t-white\">\n<span aria-hidden=\"true\">\n            Messaging\n          </span>\n<span class=\"visually-hidden\">\n            You are on the messaging overlay. Press enter to open the list of conversations.\n          </span>\n</h4>\n</button>\n<mark aria-hidden=\"true\" class=\"msg-overlay-bubble-header__unread-count\">\n<abbr title=\"You have 1 unseen message\">\n            1\n          </abbr>\n</mark>\n<!-- --> </section>\n<section class=\"msg-overlay-bubble-header__controls display-flex\">\n<button class=\"msg-overlay-bubble-header__control msg-overlay-bubble-header__control--new-convo-btn artdeco-button artdeco-button--circle artdeco-button--inverse artdeco-button--1 artdeco-button--tertiary ember-view\" data-control-name=\"overlay.compose_message\" id=\"ember132\"> <li-icon aria-hidden=\"true\" class=\"artdeco-button__icon\" size=\"small\" type=\"compose-icon\"><svg class=\"mercado-match\" data-supported-dps=\"16x16\" fill=\"currentColor\" focusable=\"false\" height=\"16\" viewbox=\"0 0 16 16\" width=\"16\" xmlns=\"http://www.w3.org/2000/svg\">\n<path d=\"M15 2.53a1.51 1.51 0 01-.44 1L9.15 9 6 10l1-3.12 5.44-5.44A1.5 1.5 0 0115 2.53zM12 11a1 1 0 01-1 1H5a1 1 0 01-1-1V5a1 1 0 011-1h3V2H5a3 3 0 00-3 3v6a3 3 0 003 3h6a3 3 0 003-3V8h-2z\"></path>\n</svg></li-icon>\n<span class=\"artdeco-button__text\">\n    Compose message\n</span></button>\n<div class=\"artdeco-dropdown artdeco-dropdown--placement-top artdeco-dropdown--justification-right ember-view\" id=\"ember133\">\n<button aria-expanded=\"false\" class=\"artdeco-button artdeco-button--1 artdeco-button--circle artdeco-button--tertiary artdeco-button--inverse artdeco-dropdown__trigger artdeco-dropdown__trigger--placement-top ember-view\" data-control-name=\"overlay.dropdown_menu\" id=\"ember134\" tabindex=\"0\" type=\"button\">\n<li-icon aria-label=\"Open messenger dropdown menu\" color=\"true\" role=\"img\" size=\"small\" type=\"ellipsis-horizontal-icon\"><svg class=\"mercado-match\" data-supported-dps=\"16x16\" fill=\"currentColor\" focusable=\"false\" height=\"16\" viewbox=\"0 0 16 16\" width=\"16\" xmlns=\"http://www.w3.org/2000/svg\">\n<path d=\"M3 9.5A1.5 1.5 0 114.5 8 1.5 1.5 0 013 9.5zM11.5 8A1.5 1.5 0 1013 6.5 1.5 1.5 0 0011.5 8zm-5 0A1.5 1.5 0 108 6.5 1.5 1.5 0 006.5 8z\"></path>\n</svg></li-icon>\n<!-- --></button>\n<div class=\"msg-overlay-bubble-header__dropdown-container\">\n<div aria-hidden=\"true\" class=\"artdeco-dropdown__content artdeco-dropdown--is-dropdown-element artdeco-dropdown__content--has-arrow artdeco-dropdown__content--arrow-right artdeco-dropdown__content--justification-right artdeco-dropdown__content--placement-top ember-view\" id=\"ember135\" tabindex=\"-1\"><!-- --></div>\n</div>\n</div>\n<!-- -->\n<button class=\"msg-overlay-bubble-header__control msg-overlay-bubble-header__control--new-convo-btn artdeco-button artdeco-button--circle artdeco-button--inverse artdeco-button--1 artdeco-button--tertiary ember-view\" id=\"ember136\"> <li-icon aria-hidden=\"true\" class=\"artdeco-button__icon\" size=\"small\" type=\"chevron-up-icon\"><svg class=\"mercado-match\" data-supported-dps=\"16x16\" fill=\"currentColor\" focusable=\"false\" height=\"16\" viewbox=\"0 0 16 16\" width=\"16\" xmlns=\"http://www.w3.org/2000/svg\">\n<path d=\"M15 11L8 6.39 1 11V8.61L8 4l7 4.61z\"></path>\n</svg></li-icon>\n<span class=\"artdeco-button__text\">\n    You are on the messaging overlay. Press enter to open the list of conversations.\n</span></button>\n</section>\n</header>\n<!-- -->\n<!-- -->\n<!-- -->\n<section class=\"scrollable msg-overlay-list-bubble__content msg-overlay-list-bubble__content--scrollable\">\n<!-- --> </section>\n<!-- -->\n<!-- --><!-- --></div>\n<!-- -->\n<div id=\"msg-overlay__emoji-hoverable-outlet\"></div></aside>\n<img class=\"third-party-tracking-pixel hidden ember-view\" id=\"ember137\" src=\"https://px.ads.linkedin.com/collect/?pid=6883&amp;fmt=gif&amp;_t=1608184800460\"/>\n</div>\n<div id=\"li-modal-container\"></div>\n<div id=\"artdeco-hoverable-outlet\"></div>\n<div class=\"entity-hovercard-container hidden ember-view\" id=\"ember8\"><div class=\"entity-hovercard p4\" role=\"tooltip\" tabindex=\"-1\">\n<section class=\"entity-hovercard__loading-state\">\n      Loading…\n    </section>\n</div>\n</div>\n<!-- -->\n<!-- -->\n<div class=\"type-ahead type-ahead-wormhole\" id=\"type-ahead-wormhole\">\n</div>\n<div class=\"toast-wormhole\" id=\"toast-wormhole\">\n</div>\n<!-- -->\n<div><!-- --></div>\n<code id=\"datalet-bpr-guid-172856\" style=\"display: none\">\n  {\"request\":\"/voyager/api/identity/dash/profiles?q\\u003DmemberIdentity\\u0026memberIdentity\\u003Dtai-duongquoc-370042199\\u0026decorationId\\u003Dcom.linkedin.voyager.dash.deco.identity.profile.FullProfileWithEntities-57\",\"status\":200,\"body\":\"bpr-guid-172856\",\"method\":\"GET\"}\n</code>\n<img class=\"datalet-bpr-guid-172856\" src=\"data:image/gif;base64,R0lGODlhAQABAIAAAAAAAP///yH5BAEAAAAALAAAAAABAAEAAAIBRAA7\" style=\"display: none\"/><code id=\"bpr-guid-172857\" style=\"display: none\">\n  {\"data\":{\"memorialized\":false,\"firstName\":\"Tai\",\"lastName\":\"DuongQuoc\",\"occupation\":\"Software Engineer at FPT Telecom Big Data\",\"objectUrn\":\"urn:li:member:779428740\",\"entityUrn\":\"urn:li:fs_miniProfile:ACoAAC51I4QBAHg7rUQ-y3mrocbvac5Jb5mhsLE\",\"backgroundImage\":null,\"publicIdentifier\":\"tai-duongquoc-370042199\",\"picture\":{\"artifacts\":[{\"width\":100,\"fileIdentifyingUrlPathSegment\":\"100_100/0/1575115942947?e=1613606400&amp;v=beta&amp;t=Ei6qswsPxVelRQYuhSp3Gj2Bp-wIK3hh9U0DfrKYQdM\",\"expiresAt\":1613606400000,\"height\":100,\"$type\":\"com.linkedin.common.VectorArtifact\"},{\"width\":200,\"fileIdentifyingUrlPathSegment\":\"200_200/0/1575115942947?e=1613606400&amp;v=beta&amp;t=__iR0HuQYde7N43xB09QjKeZhzFfPpui_7dr46S0lqM\",\"expiresAt\":1613606400000,\"height\":200,\"$type\":\"com.linkedin.common.VectorArtifact\"},{\"width\":400,\"fileIdentifyingUrlPathSegment\":\"400_400/0/1575115942947?e=1613606400&amp;v=beta&amp;t=xe0Lg0_z_mHim9U1E0Y1bhsUKDFU7nqwMKRtgXCLKms\",\"expiresAt\":1613606400000,\"height\":400,\"$type\":\"com.linkedin.common.VectorArtifact\"},{\"width\":800,\"fileIdentifyingUrlPathSegment\":\"800_800/0/1575115942947?e=1613606400&amp;v=beta&amp;t=b1ygc6DbTI_XX_BzTN4T11f-uYRJ6b7V1SMhXPL7MCg\",\"expiresAt\":1613606400000,\"height\":800,\"$type\":\"com.linkedin.common.VectorArtifact\"}],\"rootUrl\":\"https://media-exp1.licdn.com/dms/image/C5103AQERL8PpK8L1yw/profile-displayphoto-shrink_\",\"$type\":\"com.linkedin.common.VectorImage\"},\"trackingId\":\"V2IOfgecT/mNkcxNKGo26A==\",\"$type\":\"com.linkedin.voyager.identity.shared.MiniProfile\"},\"included\":[]}\n</code>\n<code id=\"datalet-bpr-guid-172857\" style=\"display: none\">\n  {\"request\":\"/voyager/api/identity/miniprofiles/ACoAAC51I4QBAHg7rUQ-y3mrocbvac5Jb5mhsLE\",\"status\":200,\"body\":\"bpr-guid-172857\",\"method\":\"GET\"}\n</code>\n<img class=\"datalet-bpr-guid-172857\" src=\"data:image/gif;base64,R0lGODlhAQABAIAAAAAAAP///yH5BAEAAAAALAAAAAABAAEAAAIBRAA7\" style=\"display: none\"/><script id=\"fastboot-body-start\" type=\"x/boundary\"></script><script id=\"fastboot-body-end\" type=\"x/boundary\"></script><code id=\"clientPageInstance\" style=\"display: none\">\n  urn:li:page:d_flagship3_profile_view_base;7MoJ8vyARZqV60jZCPsj0Q==\n</code>\n<img class=\"terminatorlet\" src=\"data:image/gif;base64,R0lGODlhAQABAIAAAAAAAP///yH5BAEAAAAALAAAAAABAAEAAAIBRAA7\" style=\"display: none\"/>\n<div aria-live=\"polite\" class=\"visually-hidden\" id=\"a11y-notification\" role=\"region\"></div>\n</body></html>\n"
     ]
    }
   ],
   "source": [
    "# Task 4: Scrape the data of 1 Linkedin profile, and write the data to a .CSV file\n",
    "\n",
    "driver.get(URLs_all_page[0])\n",
    "page_source = BeautifulSoup(driver.page_source, \"html.parser\")\n",
    "print(page_source)"
   ]
  },
  {
   "cell_type": "code",
   "execution_count": 22,
   "metadata": {},
   "outputs": [
    {
     "output_type": "stream",
     "name": "stdout",
     "text": [
      "Profile name is:  Tai DuongQuoc\nProfile location is:  Vietnam\nProfile title is:  Software Engineer at FPT Telecom Big Data\n"
     ]
    }
   ],
   "source": [
    "info_div = page_source.find('div', class_ = \"flex-1 mr5\")\n",
    "info_loc = info_div.find_all('ul')\n",
    "\n",
    "name = info_loc[0].find('li').get_text().strip()\n",
    "print('Profile name is: ', name)\n",
    "\n",
    "location = info_loc[1].find('li').get_text().strip()\n",
    "print('Profile location is: ', location)\n",
    "\n",
    "title = info_div.find('h2').get_text().strip()\n",
    "print('Profile title is: ', title)"
   ]
  },
  {
   "cell_type": "code",
   "execution_count": null,
   "metadata": {},
   "outputs": [],
   "source": []
  },
  {
   "cell_type": "code",
   "execution_count": null,
   "metadata": {},
   "outputs": [],
   "source": []
  },
  {
   "cell_type": "code",
   "execution_count": null,
   "metadata": {},
   "outputs": [],
   "source": []
  },
  {
   "cell_type": "code",
   "execution_count": null,
   "metadata": {},
   "outputs": [],
   "source": []
  },
  {
   "cell_type": "code",
   "execution_count": null,
   "metadata": {},
   "outputs": [],
   "source": []
  },
  {
   "cell_type": "code",
   "execution_count": null,
   "metadata": {},
   "outputs": [],
   "source": []
  },
  {
   "cell_type": "code",
   "execution_count": null,
   "metadata": {},
   "outputs": [],
   "source": []
  },
  {
   "cell_type": "code",
   "execution_count": null,
   "metadata": {},
   "outputs": [],
   "source": []
  },
  {
   "cell_type": "code",
   "execution_count": null,
   "metadata": {},
   "outputs": [],
   "source": []
  },
  {
   "cell_type": "code",
   "execution_count": null,
   "metadata": {},
   "outputs": [],
   "source": []
  },
  {
   "cell_type": "code",
   "execution_count": 7,
   "metadata": {},
   "outputs": [
    {
     "output_type": "stream",
     "name": "stdout",
     "text": [
      "- Accessing profile:  https://www.linkedin.com/in/tai-duongquoc-370042199/\n",
      "--- Profile name is:  Tai DuongQuoc\n",
      "--- Profile location is:  Vietnam\n",
      "--- Profile title is:  Software Engineer at FPT Telecom Big Data\n",
      "\n",
      "\n",
      "- Accessing profile:  https://www.linkedin.com/in/kim-tri-huynh-27676518b/\n",
      "--- Profile name is:  Kim Tri Huynh\n",
      "--- Profile location is:  District 9, Ho Chi Minh City, Vietnam\n",
      "--- Profile title is:  Full Stack Engineer at FPT Software\n",
      "\n",
      "\n",
      "- Accessing profile:  https://www.linkedin.com/in/tanng18011997/\n",
      "--- Profile name is:  Tân Ngô\n",
      "--- Profile location is:  District 12, Ho Chi Minh City, Vietnam\n",
      "--- Profile title is:  Software Engineer at ASCVN Education Solution\n",
      "\n",
      "\n",
      "- Accessing profile:  https://www.linkedin.com/in/tu-bui-743a59166/\n",
      "--- Profile name is:  Tu Bui\n",
      "--- Profile location is:  Vietnam\n",
      "--- Profile title is:  IT Engineer at Sofiamedix Software Co.,Ltd\n",
      "\n",
      "\n",
      "Mission Completed!\n"
     ]
    }
   ],
   "source": [
    "# Task 4: Scrape the data of 1 Linkedin profile, and write the data to a .CSV file\n",
    "\n",
    "with open('output8.csv', 'w',  newline = '') as file_output:\n",
    "    headers = ['Name', 'Job Title', 'Location', 'URL']\n",
    "    writer = csv.DictWriter(file_output, delimiter=',', lineterminator='\\n',fieldnames=headers)\n",
    "    writer.writeheader()\n",
    "    for linkedin_URL in URLs_all_page:\n",
    "        driver.get(linkedin_URL)\n",
    "        print('- Accessing profile: ', linkedin_URL)\n",
    "\n",
    "        page_source = BeautifulSoup(driver.page_source, \"html.parser\")\n",
    "\n",
    "        info_div = page_source.find('div',{'class':'flex-1 mr5'})\n",
    "        info_loc = info_div.find_all('ul')\n",
    "        name = info_loc[0].find('li').get_text().strip() #Remove unnecessary characters \n",
    "        print('--- Profile name is: ', name)\n",
    "        location = info_loc[1].find('li').get_text().strip() #Remove unnecessary characters \n",
    "        print('--- Profile location is: ', location)\n",
    "        title = info_div.find('h2').get_text().strip()\n",
    "        print('--- Profile title is: ', title)\n",
    "        writer.writerow({headers[0]:name, headers[1]:location, headers[2]:title, headers[3]:linkedin_URL})\n",
    "        print('\\n')\n",
    "\n",
    "print('Mission Completed!')"
   ]
  },
  {
   "cell_type": "code",
   "execution_count": 5,
   "metadata": {},
   "outputs": [
    {
     "output_type": "stream",
     "name": "stdout",
     "text": [
      "['https://www.linkedin.com/in/nguyen-n-95256b166/', 'https://www.linkedin.com/in/anh-le-andy/', 'https://www.linkedin.com/in/khoango125/', 'https://www.linkedin.com/in/tanng18011997/']\n"
     ]
    }
   ],
   "source": [
    "# Task 3: Scrape the URLs of the profiles\n",
    "\n",
    "# Task 3.1: Write a function to extract the URLs of one page\n",
    "def GetURL():\n",
    "    page_source = BeautifulSoup(driver.page_source)\n",
    "    profiles = page_source.find_all('a', class_ = 'search-result__result-link ember-view')\n",
    "    all_profile_URL = []\n",
    "    for profile in profiles:\n",
    "        profile_ID = profile.get('href')\n",
    "        profile_URL = \"https://www.linkedin.com\" + profile_ID\n",
    "        if profile_URL not in all_profile_URL:\n",
    "            all_profile_URL.append(profile_URL)\n",
    "    return all_profile_URL\n",
    "\n",
    "print(GetURL())"
   ]
  },
  {
   "cell_type": "code",
   "execution_count": 6,
   "metadata": {},
   "outputs": [
    {
     "output_type": "stream",
     "name": "stdout",
     "text": [
      "https://www.linkedin.com/in/nguyen-n-95256b166/\nhttps://www.linkedin.com/in/anh-le-andy/\nhttps://www.linkedin.com/in/khoango125/\nhttps://www.linkedin.com/in/tanng18011997/\n"
     ]
    }
   ],
   "source": [
    "URLs = GetURL()\n",
    "for i in URLs:\n",
    "    print(i)"
   ]
  },
  {
   "cell_type": "code",
   "execution_count": null,
   "metadata": {},
   "outputs": [],
   "source": []
  }
 ],
 "metadata": {
  "kernelspec": {
   "display_name": "Python 3",
   "language": "python",
   "name": "python3"
  },
  "language_info": {
   "codemirror_mode": {
    "name": "ipython",
    "version": 3
   },
   "file_extension": ".py",
   "mimetype": "text/x-python",
   "name": "python",
   "nbconvert_exporter": "python",
   "pygments_lexer": "ipython3",
   "version": "3.7.6-final"
  }
 },
 "nbformat": 4,
 "nbformat_minor": 4
}